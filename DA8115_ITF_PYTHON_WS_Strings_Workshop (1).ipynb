{
  "cells": [
    {
      "cell_type": "markdown",
      "metadata": {
        "id": "6CQfdp0NzVcE"
      },
      "source": [
        "Given the code below, insert the correct negative index on line 3 in order to get the last character in the string."
      ]
    },
    {
      "cell_type": "code",
      "execution_count": 1,
      "metadata": {
        "colab": {
          "base_uri": "https://localhost:8080/"
        },
        "id": "6mh0F_wDzVcF",
        "outputId": "dd4171c5-db84-4fe3-8b5b-e71972b6d068"
      },
      "outputs": [
        {
          "name": "stdout",
          "output_type": "stream",
          "text": [
            ".\n"
          ]
        }
      ],
      "source": [
        "my_string = \"In 2010, someone paid 10k Bitcoin for two pizzas.\"\n",
        "# Aşağıdaki kod göz önüne alındığında, dizedeki son karakteri elde etmek için 3. satıra doğru negatif dizini ekleyin.\n",
        "# Insert the correct negative index to get the last character\n",
        "print(my_string[-1])\n"
      ]
    },
    {
      "cell_type": "markdown",
      "metadata": {
        "id": "ApYSkGoxzVcG"
      },
      "source": [
        "<p>Given the code below, insert the correct positive index on line 3 in order to return the comma character from the string.</p>"
      ]
    },
    {
      "cell_type": "code",
      "execution_count": 3,
      "metadata": {
        "colab": {
          "base_uri": "https://localhost:8080/"
        },
        "id": "TH7cGcEkzVcG",
        "outputId": "3be85bdb-d115-49ae-ade9-119b6109e2eb"
      },
      "outputs": [
        {
          "name": "stdout",
          "output_type": "stream",
          "text": [
            ",\n"
          ]
        }
      ],
      "source": [
        "my_string = \"In 2010, someone paid 10k Bitcoin for two pizzas.\"\n",
        "#Aşağıdaki kod göz önüne alındığında, dizeden virgül karakterini döndürmek için 3. satıra doğru pozitif dizini ekleyin.\n",
        "# Insert the correct positive index to get the comma character\n",
        "print(my_string[7])\n"
      ]
    },
    {
      "cell_type": "markdown",
      "metadata": {
        "id": "Dan9_iEnzVcH"
      },
      "source": [
        "<p>Given the code below, insert the correct negative index on line 3 in order to return the <strong>w </strong>character from the string.</p>"
      ]
    },
    {
      "cell_type": "code",
      "execution_count": 4,
      "metadata": {
        "colab": {
          "base_uri": "https://localhost:8080/"
        },
        "id": "axjX99-ozVcH",
        "outputId": "d6506dc4-538d-4371-b0cc-b71933ec347a"
      },
      "outputs": [
        {
          "name": "stdout",
          "output_type": "stream",
          "text": [
            "w\n"
          ]
        }
      ],
      "source": [
        "my_string = \"In 2010, someone paid 10k Bitcoin for two pizzas.\"\n",
        "#Aşağıdaki kod göz önüne alındığında, w karakterini dizeden döndürmek için 3. satıra doğru negatif dizini ekleyin.\n",
        "# Insert the correct negative index to get the 'w' character\n",
        "print(my_string[-10])"
      ]
    },
    {
      "cell_type": "markdown",
      "metadata": {
        "id": "flkcNozxzVcH"
      },
      "source": [
        "<p>Given the code below, insert the correct method on line 3 in order to return the index of the <strong>B </strong>character in the string.</p>"
      ]
    },
    {
      "cell_type": "code",
      "execution_count": 5,
      "metadata": {
        "colab": {
          "base_uri": "https://localhost:8080/"
        },
        "id": "fbXbfVNYzVcH",
        "outputId": "9447a6f9-13e5-48fc-a94a-edc57beccbbb"
      },
      "outputs": [
        {
          "name": "stdout",
          "output_type": "stream",
          "text": [
            "26\n"
          ]
        }
      ],
      "source": [
        "my_string = \"In 2010, someone paid 10k Bitcoin for two pizzas.\"\n",
        "#Aşağıdaki kod verildiğinde, dizedeki B karakterinin dizinini döndürmek için 3. satıra doğru yöntemi ekleyin.\n",
        "# Insert the correct method to get the index of the 'B' character\n",
        "print(my_string.index('B'))\n"
      ]
    },
    {
      "cell_type": "markdown",
      "metadata": {
        "id": "KEzrkmnVzVcH"
      },
      "source": [
        "<p>Given the code below, insert the correct method on line 3 in order to return the number of occurrences of the letter <strong>o </strong>in the string.</p>"
      ]
    },
    {
      "cell_type": "code",
      "execution_count": 6,
      "metadata": {
        "colab": {
          "base_uri": "https://localhost:8080/"
        },
        "id": "19spXzvAzVcI",
        "outputId": "b56b4d88-c595-46c4-a24b-b434f2e08476"
      },
      "outputs": [
        {
          "name": "stdout",
          "output_type": "stream",
          "text": [
            "5\n"
          ]
        }
      ],
      "source": [
        "my_string = \"In 2010, someone paid 10k Bitcoin for two pizzas.\"\n",
        "#Aşağıdaki kod verildiğinde, o harfinin dizedeki oluşum sayısını döndürmek için 3. satıra doğru yöntemi ekleyin.\n",
        "# Insert the correct method to get the number of occurrences of 'o'\n",
        "print(my_string.count('o'))\n"
      ]
    },
    {
      "cell_type": "markdown",
      "metadata": {
        "id": "sEjj_-bLzVcI"
      },
      "source": [
        "<p>Given the code below, insert the correct method on line 3 in order to convert all letters in the string to uppercase.</p>"
      ]
    },
    {
      "cell_type": "code",
      "execution_count": 8,
      "metadata": {
        "colab": {
          "base_uri": "https://localhost:8080/"
        },
        "id": "s7-yy0AJzVcI",
        "outputId": "cff00c50-2602-4e6c-92a2-3bda47fbda31"
      },
      "outputs": [
        {
          "name": "stdout",
          "output_type": "stream",
          "text": [
            "IN 2010, SOMEONE PAID 10K BITCOIN FOR TWO PIZZAS.\n"
          ]
        }
      ],
      "source": [
        "my_string = \"In 2010, someone paid 10k Bitcoin for two pizzas.\"\n",
        "#Aşağıdaki kod verildiğinde, dizedeki tüm harfleri büyük harfe dönüştürmek için 3. satıra doğru yöntemi ekleyin.\n",
        "# Insert the correct method to convert all letters to uppercase\n",
        "print(my_string.upper())\n"
      ]
    },
    {
      "cell_type": "markdown",
      "metadata": {
        "id": "6RaMWubfzVcI"
      },
      "source": [
        "<p>Given the code below, insert the correct method on line 3 in order to get the index at which the substring <strong>Bitcoin </strong>starts.</p>"
      ]
    },
    {
      "cell_type": "code",
      "execution_count": 9,
      "metadata": {
        "colab": {
          "base_uri": "https://localhost:8080/"
        },
        "id": "XSmV2XPYzVcI",
        "outputId": "aa8bb9eb-2bcc-47b6-a883-a624a217075f"
      },
      "outputs": [
        {
          "name": "stdout",
          "output_type": "stream",
          "text": [
            "26\n"
          ]
        }
      ],
      "source": [
        "my_string = \"In 2010, someone paid 10k Bitcoin for two pizzas.\"\n",
        "#Aşağıdaki kod göz önüne alındığında, Bitcoin alt dizisinin başladığı dizini elde etmek için 3. satıra doğru yöntemi girin.\n",
        "# Insert the correct method to get the index of the substring 'Bitcoin'\n",
        "print(my_string.find('Bitcoin'))\n"
      ]
    },
    {
      "cell_type": "markdown",
      "metadata": {
        "id": "ZxkvMC_szVcI"
      },
      "source": [
        "<p>Given the code below, insert the correct method on line 3 in order to check of the string starts with the letter <strong>X</strong>.</p>"
      ]
    },
    {
      "cell_type": "code",
      "execution_count": 10,
      "metadata": {
        "colab": {
          "base_uri": "https://localhost:8080/"
        },
        "id": "B3xyLASazVcJ",
        "outputId": "8607272f-2c68-4c62-e316-0e5f163aa6c7"
      },
      "outputs": [
        {
          "name": "stdout",
          "output_type": "stream",
          "text": [
            "False\n"
          ]
        }
      ],
      "source": [
        "my_string = \"In 2010, someone paid 10k Bitcoin for two pizzas.\"\n",
        "#Aşağıdaki kod verildiğinde, dizenin X harfiyle başladığını kontrol etmek için 3. satıra doğru yöntemi ekleyin. X ile baslamiyor False verir.\n",
        "# Insert the correct method to check if the string starts with the letter 'X'\n",
        "print(my_string.startswith('X'))\n"
      ]
    },
    {
      "cell_type": "markdown",
      "metadata": {
        "id": "77ucNBcJzVcJ"
      },
      "source": [
        "<p>Given the code below, insert the correct method on line 3 in order to convert all uppercase letters to lowercase and all lowercase letters to uppercase.</p>"
      ]
    },
    {
      "cell_type": "code",
      "execution_count": 11,
      "metadata": {
        "colab": {
          "base_uri": "https://localhost:8080/"
        },
        "id": "OWJFTHcNzVcJ",
        "outputId": "214c66e8-1238-4424-b4f3-7c8cf67b1935"
      },
      "outputs": [
        {
          "name": "stdout",
          "output_type": "stream",
          "text": [
            "iN 2010, SOMEONE PAID 10K bITCOIN FOR TWO PIZZAS.\n"
          ]
        }
      ],
      "source": [
        "my_string = \"In 2010, someone paid 10k Bitcoin for two pizzas.\"\n",
        "#Aşağıdaki kod verildiğinde, tüm büyük harfleri küçük harfe ve tüm küçük harfleri büyük harfe dönüştürmek için 3. satıra doğru yöntemi girin.\n",
        "# Insert the correct method to convert the case of the letters\n",
        "print(my_string.swapcase())\n"
      ]
    },
    {
      "cell_type": "markdown",
      "metadata": {
        "id": "wMY13ri_zVcJ"
      },
      "source": [
        "<p>Given the code below, insert the correct method on line 3 in order to remove all spaces (single Space characters from the keyboard) from the string.</p>"
      ]
    },
    {
      "cell_type": "code",
      "execution_count": 12,
      "metadata": {
        "colab": {
          "base_uri": "https://localhost:8080/"
        },
        "id": "1RBvXBaJzVcJ",
        "outputId": "3481880f-f745-4f2f-bcf0-795641dba8da"
      },
      "outputs": [
        {
          "name": "stdout",
          "output_type": "stream",
          "text": [
            "In2010,someonepaid10kBitcoinfortwopizzas.\n"
          ]
        }
      ],
      "source": [
        "my_string = \"In 2010, someone paid 10k Bitcoin for two pizzas.\"\n",
        "#Aşağıdaki kod verildiğinde, dizedeki tüm boşlukları (klavyedeki tek boşluk karakterleri) kaldırmak için 3. satıra doğru yöntemi ekleyin. boslugu kaldirir.\n",
        "# Insert the correct method to remove all spaces from the string\n",
        "print(my_string.replace(' ', ''))\n"
      ]
    },
    {
      "cell_type": "markdown",
      "metadata": {
        "id": "uIl24SAnzVcJ"
      },
      "source": [
        "<p>Given the code below, insert the correct method on line 3 in order to replace all the occurrences of letter <strong>i </strong>with the substring <strong>btc</strong>.</p>"
      ]
    },
    {
      "cell_type": "code",
      "execution_count": 13,
      "metadata": {
        "colab": {
          "base_uri": "https://localhost:8080/"
        },
        "id": "KkkPP-MfzVcJ",
        "outputId": "216374a7-a81b-4aee-bb05-89a6d9c606a0"
      },
      "outputs": [
        {
          "name": "stdout",
          "output_type": "stream",
          "text": [
            "In 2010, someone pabtcd 10k Bbtctcobtcn for two pbtczzas.\n"
          ]
        }
      ],
      "source": [
        "my_string = \"In 2010, someone paid 10k Bitcoin for two pizzas.\"\n",
        "#Aşağıdaki kod göz önüne alındığında, i harfinin tüm oluşumlarını btc alt dizesiyle değiştirmek için 3. satıra doğru yöntemi ekleyin.\n",
        "# Insert the correct method to replace all occurrences of 'i' with 'btc'\n",
        "print(my_string.replace('i', 'btc'))\n"
      ]
    },
    {
      "cell_type": "markdown",
      "metadata": {
        "id": "Y0-kpLWezVcK"
      },
      "source": [
        "<p>Given the code below, insert the correct method on line 3 in order to split the entire string in two parts, using the comma as a delimiter.</p>"
      ]
    },
    {
      "cell_type": "code",
      "execution_count": 14,
      "metadata": {
        "colab": {
          "base_uri": "https://localhost:8080/"
        },
        "id": "yMVc7WD8zVcK",
        "outputId": "7f3e7479-62f0-4829-ea84-b8e1cdf33d98"
      },
      "outputs": [
        {
          "name": "stdout",
          "output_type": "stream",
          "text": [
            "['In 2010', ' someone paid 10k Bitcoin for two pizzas.']\n"
          ]
        }
      ],
      "source": [
        "my_string = \"In 2010, someone paid 10k Bitcoin for two pizzas.\"\n",
        "#Aşağıdaki kod göz önüne alındığında, ayırıcı olarak virgül kullanarak dizenin tamamını iki parçaya bölmek için 3. satıra doğru yöntemi ekleyin.\n",
        "# Insert the correct method to split the string using the comma as a delimiter\n",
        "print(my_string.split(','))\n"
      ]
    },
    {
      "cell_type": "markdown",
      "metadata": {
        "id": "oJVbNQJ2zVcK"
      },
      "source": [
        "<p>Given the code below, insert the correct method on line 3 in order to join the characters of the string using the <strong>&amp; </strong>symbol as a delimiter.</p>"
      ]
    },
    {
      "cell_type": "code",
      "execution_count": 15,
      "metadata": {
        "colab": {
          "base_uri": "https://localhost:8080/"
        },
        "id": "VtkArWFMzVcK",
        "outputId": "dbc9f15d-8a7e-40c6-9ead-9f1738752fa3"
      },
      "outputs": [
        {
          "name": "stdout",
          "output_type": "stream",
          "text": [
            "I&n& &2&0&1&0&,& &s&o&m&e&o&n&e& &p&a&i&d& &1&0&k& &B&i&t&c&o&i&n& &f&o&r& &t&w&o& &p&i&z&z&a&s&.\n"
          ]
        }
      ],
      "source": [
        "my_string = \"In 2010, someone paid 10k Bitcoin for two pizzas.\"\n",
        "#Aşağıdaki kod verildiğinde, & sembolünü sınırlayıcı olarak kullanarak dizenin karakterlerini birleştirmek için 3. satıra doğru yöntemi ekleyin.\n",
        "# Insert the correct method to join the characters using the '&' symbol as a delimiter\n",
        "print('&'.join(my_string))\n"
      ]
    },
    {
      "cell_type": "markdown",
      "metadata": {
        "id": "nq-ifI2BzVcK"
      },
      "source": [
        "<p>Given the code below, insert the correct code on line 4 in order to concatenate <strong>my_string</strong> with the following string:</p><code>my_other_string = \"Poor guy!\"</code>"
      ]
    },
    {
      "cell_type": "code",
      "execution_count": 16,
      "metadata": {
        "colab": {
          "base_uri": "https://localhost:8080/"
        },
        "id": "YYc7HJFrzVcK",
        "outputId": "7d30b241-90b9-4e62-da19-3e2e2e95e800"
      },
      "outputs": [
        {
          "name": "stdout",
          "output_type": "stream",
          "text": [
            "In 2010, someone paid 10k Bitcoin for two pizzas.Poor guy!\n"
          ]
        }
      ],
      "source": [
        "my_string = \"In 2010, someone paid 10k Bitcoin for two pizzas.\"\n",
        "my_other_string = \"Poor guy!\"\n",
        "#Aşağıdaki kod göz önüne alındığında, my_string'i aşağıdaki dizeyle birleştirmek için 4. satıra doğru kodu girin:\n",
        "# Insert the correct code to concatenate my_string with my_other_string\n",
        "print(my_string + my_other_string)\n"
      ]
    },
    {
      "cell_type": "code",
      "execution_count": 2,
      "metadata": {},
      "outputs": [
        {
          "name": "stdout",
          "output_type": "stream",
          "text": [
            "In 2010, someone paid 10k Bitcoin for two pizzas. Poor guy!\n"
          ]
        }
      ],
      "source": [
        "my_string = \"In 2010, someone paid 10k Bitcoin for two pizzas.\"\n",
        "my_other_string = \"Poor guy!\"\n",
        "print(my_string + \" \" + my_other_string)"
      ]
    },
    {
      "cell_type": "code",
      "execution_count": 3,
      "metadata": {},
      "outputs": [
        {
          "name": "stdout",
          "output_type": "stream",
          "text": [
            "In 2010, someone paid 10k Bitcoin for two pizzas. Poor guy!\n"
          ]
        }
      ],
      "source": [
        "my_string = \"In 2010, someone paid 10k Bitcoin for two pizzas.\"\n",
        "my_other_string = \"Poor guy!\"\n",
        "print(\" \".join([my_string, my_other_string]))"
      ]
    },
    {
      "cell_type": "code",
      "execution_count": 4,
      "metadata": {},
      "outputs": [
        {
          "name": "stdout",
          "output_type": "stream",
          "text": [
            "In 2010, someone paid 10k Bitcoin for two pizzas. Poor guy!\n"
          ]
        }
      ],
      "source": [
        "my_string = \"In 2010, someone paid 10k Bitcoin for two pizzas.\"\n",
        "my_other_string = \"Poor guy!\"\n",
        "print(\"%s %s\" %(my_string, my_other_string))  # C style formatting."
      ]
    },
    {
      "cell_type": "code",
      "execution_count": 6,
      "metadata": {},
      "outputs": [
        {
          "name": "stdout",
          "output_type": "stream",
          "text": [
            "In 2010, someone paid 10k Bitcoin for two pizzas. Poor guy!\n"
          ]
        }
      ],
      "source": [
        "my_string = \"In 2010, someone paid 10k Bitcoin for two pizzas.\"\n",
        "my_other_string = \"Poor guy!\"\n",
        "print(f\"{my_string} {my_other_string}\")  # f-string. (bearbeitet) "
      ]
    },
    {
      "cell_type": "code",
      "execution_count": 5,
      "metadata": {},
      "outputs": [
        {
          "name": "stdout",
          "output_type": "stream",
          "text": [
            "In 2010, someone paid 10k Bitcoin for two pizzas. Poor guy!\n"
          ]
        }
      ],
      "source": [
        "my_string = \"In 2010, someone paid 10k Bitcoin for two pizzas.\"\n",
        "my_other_string = \"Poor guy!\"\n",
        "print(\"{} {}\".format(my_string, my_other_string))  # formatting with format() method."
      ]
    },
    {
      "cell_type": "markdown",
      "metadata": {
        "id": "peIWpsgBzVcK"
      },
      "source": [
        "<p>Given the code below, insert the correct method on line 3 in order to convert the first letter of each word in the string to uppercase.</p>"
      ]
    },
    {
      "cell_type": "code",
      "execution_count": 18,
      "metadata": {
        "colab": {
          "base_uri": "https://localhost:8080/"
        },
        "id": "bWwwta8yzVcK",
        "outputId": "68ac6464-4058-4ecc-dc94-38aaf0a91893"
      },
      "outputs": [
        {
          "name": "stdout",
          "output_type": "stream",
          "text": [
            "In 2010, Someone Paid 10K Bitcoin For Two Pizzas.\n"
          ]
        }
      ],
      "source": [
        "my_string = \"In 2010, someone paid 10k Bitcoin for two pizzas.\"\n",
        "#Aşağıdaki kod verildiğinde, dizedeki her kelimenin ilk harfini büyük harfe dönüştürmek için 3. satıra doğru yöntemi ekleyin.\n",
        "# Insert the correct method to convert the first letter of each word to uppercase\n",
        "print(my_string.title())\n",
        "\n"
      ]
    },
    {
      "cell_type": "markdown",
      "metadata": {
        "id": "S-GfgO6ZzVcK"
      },
      "source": [
        "<p>Given the code below, use string formatting with the <strong>format()</strong> method on line 3 to map the values of <strong>2010</strong>, <strong>10k </strong>and <strong>Bitcoin </strong>to the corresponding formatting operators.</p>"
      ]
    },
    {
      "cell_type": "code",
      "execution_count": 19,
      "metadata": {
        "colab": {
          "base_uri": "https://localhost:8080/"
        },
        "id": "gyknsG4DzVcK",
        "outputId": "6031d20f-af80-4895-e8c1-07ba416e7177"
      },
      "outputs": [
        {
          "name": "stdout",
          "output_type": "stream",
          "text": [
            "In 2010, someone paid 10k Bitcoin for two pizzas.\n"
          ]
        }
      ],
      "source": [
        "my_string = \"In {}, someone paid {} {} for two pizzas.\"\n",
        "#Aşağıdaki kod verildiğinde, 2010, 10k ve Bitcoin değerlerini karşılık gelen biçimlendirme operatörlerine eşlemek için 3. satırdaki format() yöntemiyle dize biçimlendirmesini kullanın.\n",
        "# Use string formatting with the format() method to map values\n",
        "print(my_string.format(2010, '10k', 'Bitcoin'))\n"
      ]
    },
    {
      "cell_type": "markdown",
      "metadata": {
        "id": "rlyzOQM8zVcL"
      },
      "source": [
        "<p>Given the code below, use slicing and insert the correct code on line 3 in order to return the substring <strong>2010 </strong>from the string. Use positive indexes!</p>"
      ]
    },
    {
      "cell_type": "code",
      "execution_count": 20,
      "metadata": {
        "colab": {
          "base_uri": "https://localhost:8080/"
        },
        "id": "hExXDQaUzVcL",
        "outputId": "cfc2befe-5fbf-49e4-ee36-d361cd9ef30e"
      },
      "outputs": [
        {
          "name": "stdout",
          "output_type": "stream",
          "text": [
            "2010\n"
          ]
        }
      ],
      "source": [
        "my_string = \"In 2010, someone paid 10k Bitcoin for two pizzas.\"\n",
        "#Aşağıdaki kod verildiğinde, dizeden 2010 alt dizesini döndürmek için dilimlemeyi kullanın ve 3. satıra doğru kodu ekleyin. Pozitif dizinler kullanın!\n",
        "# Use slicing to return the substring '2010'\n",
        "print(my_string[3:7])\n"
      ]
    },
    {
      "cell_type": "markdown",
      "metadata": {
        "id": "wJNSvZD4zVcL"
      },
      "source": [
        "<p>Given the code below, use slicing and insert the correct code on line 3 in order to return the substring <strong>Bitcoin </strong>from the string. Use negative indexes!</p>"
      ]
    },
    {
      "cell_type": "code",
      "execution_count": 23,
      "metadata": {
        "colab": {
          "base_uri": "https://localhost:8080/"
        },
        "id": "iVZDED9pzVcL",
        "outputId": "e263bbec-3ad7-416e-afac-ecada04a3aac"
      },
      "outputs": [
        {
          "name": "stdout",
          "output_type": "stream",
          "text": [
            "Bitcoin\n"
          ]
        }
      ],
      "source": [
        "my_string = \"In 2010, someone paid 10k Bitcoin for two pizzas.\"\n",
        "#Aşağıdaki kod verildiğinde, dizeden Bitcoin alt dizesini döndürmek için dilimlemeyi kullanın ve 3. satıra doğru kodu ekleyin. Negatif indeksler kullanın!\n",
        "# Use slicing to return the substring 'Bitcoin' with negative indexes\n",
        "print(my_string[-23:-16])\n"
      ]
    },
    {
      "cell_type": "code",
      "execution_count": 1,
      "metadata": {},
      "outputs": [
        {
          "data": {
            "text/plain": [
              "-23"
            ]
          },
          "execution_count": 1,
          "metadata": {},
          "output_type": "execute_result"
        }
      ],
      "source": [
        "my_string = \"In 2010, someone paid 10k Bitcoin for two pizzas.\"\n",
        "\n",
        "a= my_string.index('B')- len(my_string)\n",
        "a"
      ]
    },
    {
      "cell_type": "markdown",
      "metadata": {
        "id": "G4gdbwqfzVcL"
      },
      "source": [
        "<p>Given the code below, use slicing and insert the correct code on line 3 in order to return the first 12 characters in the string. Use a single, positive index!</p>"
      ]
    },
    {
      "cell_type": "code",
      "execution_count": 24,
      "metadata": {
        "colab": {
          "base_uri": "https://localhost:8080/"
        },
        "id": "rhco_5V6zVcL",
        "outputId": "286290bc-8aac-48a4-a30c-7416106e48db"
      },
      "outputs": [
        {
          "name": "stdout",
          "output_type": "stream",
          "text": [
            "In 2010, som\n"
          ]
        }
      ],
      "source": [
        "my_string = \"In 2010, someone paid 10k Bitcoin for two pizzas.\"\n",
        "#Aşağıdaki kod verildiğinde, dizedeki ilk 12 karakteri döndürmek için dilimlemeyi kullanın ve 3. satıra doğru kodu ekleyin. Tek, pozitif bir dizin kullanın!\n",
        "# Use slicing to return the first 12 characters with a single, positive index\n",
        "print(my_string[:12])\n"
      ]
    },
    {
      "cell_type": "markdown",
      "metadata": {
        "id": "mKW-qWVMzVcL"
      },
      "source": [
        "<p>Given the code below, use slicing and insert the correct code on line 3 in order to return the last 9 characters of the string. Use a single, negative index!</p>"
      ]
    },
    {
      "cell_type": "code",
      "execution_count": 25,
      "metadata": {
        "colab": {
          "base_uri": "https://localhost:8080/"
        },
        "id": "T5bwUEObzVcP",
        "outputId": "4b5ee540-286b-449b-8f41-9cf96da147ab"
      },
      "outputs": [
        {
          "name": "stdout",
          "output_type": "stream",
          "text": [
            "o pizzas.\n"
          ]
        }
      ],
      "source": [
        "my_string = \"In 2010, someone paid 10k Bitcoin for two pizzas.\"\n",
        "#Aşağıdaki kod verildiğinde, dizenin son 9 karakterini döndürmek için dilimlemeyi kullanın ve 3. satıra doğru kodu ekleyin. Tek bir negatif dizin kullanın!\n",
        "# Use slicing to return the last 9 characters with a single, negative index\n",
        "print(my_string[-9:])\n"
      ]
    },
    {
      "cell_type": "markdown",
      "metadata": {
        "id": "cuFYhZC2zVcP"
      },
      "source": [
        "<p>Given the code below, use slicing and insert the correct code on line 3 in order to return the entire string in reversed order.</p>"
      ]
    },
    {
      "cell_type": "code",
      "execution_count": 26,
      "metadata": {
        "colab": {
          "base_uri": "https://localhost:8080/"
        },
        "id": "7TWawjKezVcP",
        "outputId": "b18a8953-a820-40e5-fcbf-920776184973"
      },
      "outputs": [
        {
          "name": "stdout",
          "output_type": "stream",
          "text": [
            ".sazzip owt rof nioctiB k01 diap enoemos ,0102 nI\n"
          ]
        }
      ],
      "source": [
        "my_string = \"In 2010, someone paid 10k Bitcoin for two pizzas.\"\n",
        "#Aşağıdaki kod verildiğinde, dizenin tamamını ters sırayla döndürmek için dilimlemeyi kullanın ve 3. satıra doğru kodu ekleyin.\n",
        "# Use slicing to return the entire string in reversed order\n",
        "print(my_string[::-1])\n"
      ]
    },
    {
      "cell_type": "markdown",
      "metadata": {
        "id": "-T2prZtFzVcP"
      },
      "source": [
        "<p>Given the code below, use slicing and insert the correct code on line 3 in order to return every 7th character of the string, starting with the first character.</p><p>The final result should be <code>I,n top</code></p>"
      ]
    },
    {
      "cell_type": "code",
      "execution_count": 27,
      "metadata": {
        "colab": {
          "base_uri": "https://localhost:8080/"
        },
        "id": "FNK4_BvCzVcQ",
        "outputId": "2e9e4508-d667-467c-a9fc-22ef68015bf1"
      },
      "outputs": [
        {
          "name": "stdout",
          "output_type": "stream",
          "text": [
            "I,n top\n"
          ]
        }
      ],
      "source": [
        "my_string = \"In 2010, someone paid 10k Bitcoin for two pizzas.\"\n",
        "#Aşağıdaki kod verildiğinde, ilk karakterden başlayarak dizenin her 7. karakterini döndürmek için dilimlemeyi kullanın ve 3. satıra doğru kodu ekleyin.\n",
        "# Use slicing to return every 7th character, starting with the first character\n",
        "print(my_string[::7])\n"
      ]
    },
    {
      "cell_type": "markdown",
      "metadata": {
        "id": "qLnJnJUazVcQ"
      },
      "source": [
        "<p>Given the code below, use slicing and insert the correct code on line 3 in order to return the string except the first 10 characters. Use a single, positive index!</p>"
      ]
    },
    {
      "cell_type": "code",
      "execution_count": 28,
      "metadata": {
        "colab": {
          "base_uri": "https://localhost:8080/"
        },
        "id": "ogO-yNULzVcQ",
        "outputId": "3709f1a7-2d7a-491e-af98-bf023bfc44b8"
      },
      "outputs": [
        {
          "name": "stdout",
          "output_type": "stream",
          "text": [
            "omeone paid 10k Bitcoin for two pizzas.\n"
          ]
        }
      ],
      "source": [
        "my_string = \"In 2010, someone paid 10k Bitcoin for two pizzas.\"\n",
        "#Aşağıdaki kod verildiğinde, ilk 10 karakter dışındaki dizeyi döndürmek için dilimlemeyi kullanın ve 3. satıra doğru kodu ekleyin. Tek, pozitif bir indeks kullanın!\n",
        "# Use slicing to return the string except the first 10 characters with a single, positive index\n",
        "print(my_string[10:])\n"
      ]
    },
    {
      "cell_type": "markdown",
      "metadata": {
        "id": "lN8ieNSpzVcQ"
      },
      "source": [
        "<p>Given the code below, use slicing and insert the correct code on line 3 in order to return the string except the last 4 characters. Use a single, negative index!</p>"
      ]
    },
    {
      "cell_type": "code",
      "execution_count": 29,
      "metadata": {
        "colab": {
          "base_uri": "https://localhost:8080/"
        },
        "id": "VNe5hfKWzVcQ",
        "outputId": "426661ca-3a85-4a87-f21c-6661904dcbbe"
      },
      "outputs": [
        {
          "name": "stdout",
          "output_type": "stream",
          "text": [
            "In 2010, someone paid 10k Bitcoin for two piz\n"
          ]
        }
      ],
      "source": [
        "my_string = \"In 2010, someone paid 10k Bitcoin for two pizzas.\"\n",
        "#Aşağıdaki kod göz önüne alındığında, son 4 karakter dışındaki dizeyi döndürmek için dilimlemeyi kullanın ve 3. satıra doğru kodu ekleyin. Tek bir negatif dizin kullanın!\n",
        "# Use slicing to return the string except the last 4 characters with a single, negative index\n",
        "print(my_string[:-4])\n"
      ]
    }
  ],
  "metadata": {
    "colab": {
      "provenance": []
    },
    "interpreter": {
      "hash": "468f25ad0239460415b7e6b7483d5c8f7213894121f6fb96c4cb6ef93fffe534"
    },
    "kernelspec": {
      "display_name": "Python 3.9.6 64-bit",
      "language": "python",
      "name": "python3"
    },
    "language_info": {
      "codemirror_mode": {
        "name": "ipython",
        "version": 3
      },
      "file_extension": ".py",
      "mimetype": "text/x-python",
      "name": "python",
      "nbconvert_exporter": "python",
      "pygments_lexer": "ipython3",
      "version": "3.12.0"
    },
    "orig_nbformat": 4
  },
  "nbformat": 4,
  "nbformat_minor": 0
}


What is Python? Answer: Python is a high-level, interpreted, general-purpose programming language. Being a general-purpose language, it can be used to build almost any type of application with the right tools/libraries. Additionally, python supports objects, modules, threads, exception-handling and automatic memory management which help in modelling real-world problems and building applications to solve these problems.
What is PEP 8 and why is it important? Answer: PEP stands for Python Enhancement Proposal. A PEP is an official design document providing information to the Python Community, or describing a new feature for Python or its processes. PEP 8 is especially important since it documents the style guidelines for Python Code. Apparently contributing in the Python open-source community requires you to follow these style guidelines sincerely and strictly.l
Is indentation required in python? Answer: Indentation is necessary for Python. It specifies a block of code. All code within loops, classes, functions, etc is specified within an indented block. It is usually done using four space characters. If your code is not indented necessarily, it will not execute accurately and will throw errors as well.
What are the primary components of a computer system? ITF-TW-1_TEAM-LEAD.md2023-11-29 5 / 6 Answer: The primary components of most computer systems are the central processing unit, the memory and the input and output devices. The CPU is typically an arithmetic logic unit, control unit or both. The memory of a computer system refers to both the primary and secondary memory. Coffee Break 10m Logical Reasoning Questions 15m

Reagieren

Antworten









